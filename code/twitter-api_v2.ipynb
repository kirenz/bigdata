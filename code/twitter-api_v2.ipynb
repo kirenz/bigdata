{
 "cells": [
  {
   "cell_type": "markdown",
   "metadata": {},
   "source": [
    "# Twitter API v2 & tweepy in Python"
   ]
  },
  {
   "cell_type": "markdown",
   "metadata": {},
   "source": [
    "In this tutorial, we'll cover the setup to get started with the Twitter API v2 using Python and tweepy.\n",
    "\n",
    "1. [Sign up with Twitter](https://help.twitter.com/en/using-twitter/create-twitter-account)\n",
    "2. Create an App in the [developer account](https://developer.twitter.com/en/portal/dashboard): Follow steps 1 and 2 in this [Twitter article](https://developer.twitter.com/en/docs/tutorials/step-by-step-guide-to-making-your-first-request-to-the-twitter-api-v2)\n",
    "3. Obtain the access token and access token secret. These can be generated in your [developer portal](https://developer.twitter.com/en/portal/projects-and-apps), under the “Keys and tokens” tab for your developer App.\n",
    "4. Next, we need to install tweepy. Installation with Anaconda: `conda install -c conda-forge tweepy`\n"
   ]
  },
  {
   "cell_type": "markdown",
   "metadata": {},
   "source": [
    "Now we are ready to import tweepy:"
   ]
  },
  {
   "cell_type": "code",
   "execution_count": 3,
   "metadata": {},
   "outputs": [],
   "source": [
    "import tweepy"
   ]
  },
  {
   "cell_type": "markdown",
   "metadata": {},
   "source": [
    "Note that we need to provide the Twitter keys and tokens in order to use the API. Therefore, we first create a simple Python script called `keys.py` in which we store all passwords. Save this script in the same folder as this notebook:\n",
    "\n",
    "```python\n",
    "consumer_key=\"insert your API key\"\n",
    "consumer_secret=\"insert your API secret\"\n",
    "access_token=\"insert your access token\"\n",
    "access_token_secret=\"insert your access token secret\"\n",
    "bearer_token =\"insert your bearer token\"\n",
    "```\n",
    "\n",
    "We import the keys and use them in the function [tweepy.Client](https://docs.tweepy.org/en/stable/client.html)"
   ]
  },
  {
   "cell_type": "code",
   "execution_count": 4,
   "metadata": {},
   "outputs": [],
   "source": [
    "from keys import *"
   ]
  },
  {
   "cell_type": "code",
   "execution_count": 32,
   "metadata": {},
   "outputs": [],
   "source": [
    "# Make a connection \n",
    "import requests\n",
    "\n",
    "client = tweepy.Client( bearer_token=bearer_token, \n",
    "                        consumer_key=consumer_key, \n",
    "                        consumer_secret=consumer_secret, \n",
    "                        access_token=access_token, \n",
    "                        access_token_secret=access_token_secret, \n",
    "                        return_type = requests.Response,\n",
    "                        wait_on_rate_limit=True)"
   ]
  },
  {
   "cell_type": "markdown",
   "metadata": {},
   "source": [
    "Let's search Tweets from the Twitter account \"hdm_stgt\" from the last 7 days ([`search_recent_tweets`](https://developer.twitter.com/en/docs/twitter-api/tweets/search/api-reference/get-tweets-search-recent)). We exclude Retweets and limit the result to 10. We also include some additional information with tweet_fields."
   ]
  },
  {
   "cell_type": "code",
   "execution_count": 81,
   "metadata": {},
   "outputs": [],
   "source": [
    "# Define query\n",
    "query = 'from:hdm_stgt -is:retweet'\n",
    "\n",
    "# get 20 tweets\n",
    "tweets = client.search_recent_tweets(query=query, \n",
    "                                    tweet_fields=['author_id', 'created_at'],\n",
    "                                     max_results=10)"
   ]
  },
  {
   "cell_type": "code",
   "execution_count": 82,
   "metadata": {},
   "outputs": [
    {
     "data": {
      "text/plain": [
       "'{\"data\":[{\"created_at\":\"2021-12-08T09:15:47.000Z\",\"text\":\"Die Hochschulen der Region Stuttgart laden unter dem Motto \\\\\"Explore the Future\\\\\" zur Reihe Teens University für Schülerinnen und Schüler ab zwölf Jahren ein. Immer freitags, jeweils um 16 Uhr, werden dazu Veranstaltungen angeboten, auch von der HdM:\\\\nhttps://t.co/8oUL4aq2BF https://t.co/BNY2MXT8Np\",\"id\":\"1468509602295734272\",\"author_id\":\"148370382\"},{\"created_at\":\"2021-12-06T16:14:36.000Z\",\"text\":\"Seit Oktober 2021 ist Prof. Dr. Bernd Schmid-Ruhe aus dem Studiengang Informationswissenschaften neuer Prodekan in der Fakultät Information und Kommunikation an der HdM. Er steht im Dekanat der Fakultät für das Thema \\\\\"Kommunikation\\\\\": \\\\nhttps://t.co/4IEdIzasSi https://t.co/xruJfgCzpw\",\"id\":\"1467890227121471488\",\"author_id\":\"148370382\"},{\"created_at\":\"2021-12-03T09:00:54.000Z\",\"text\":\"Am 9.12.2021 findet an der HdM eine Online-Fachtagung in der Reihe \\\\\"IDEepolis\\\\\" statt. Auf der Tagesordnung stehen ethische Fragen rund um das Thema Nachhaltigkeit und Digitalisierung. Bei der Veranstaltung wird auch der Medienethik-Award (META) verliehen: https://t.co/kaDzpHT6XX https://t.co/UtQMLNh0CP\",\"id\":\"1466693917341110276\",\"author_id\":\"148370382\"},{\"created_at\":\"2021-12-02T09:00:50.000Z\",\"text\":\"In der Publikation \\\\\"Lernwelt Wissenschaftliche Bibliothek“ von Olaf Eigenbrodt aus der Reihe \\\\\"Lernwelten“ geht es unter anderem um lerntheoretische Grundlagen und die Situiertheit des Lernens. Herausgeber ist HdM-Professor Dr. Richard Stang: https://t.co/QlST7udsTI https://t.co/Smb7EHjT7n\",\"id\":\"1466331513189015554\",\"author_id\":\"148370382\"},{\"created_at\":\"2021-12-01T15:30:23.000Z\",\"text\":\"Morgen, am 2. 12.2021, 10 Uhr, präsentieren hubraum, der Tech-Incubator der Deutschen Telekom, und der Bundesverband Deutsche Start-ups die Ergebnisse ihrer Studie \\\\\"Start-ups und Künstliche Intelligenz\\\\\". Interessierte sind online herzlich willkommen: https://t.co/xAOmirejEx https://t.co/8QRidoqiEG\",\"id\":\"1466067158052524035\",\"author_id\":\"148370382\"}],\"meta\":{\"newest_id\":\"1468509602295734272\",\"oldest_id\":\"1466067158052524035\",\"result_count\":5}}'"
      ]
     },
     "execution_count": 82,
     "metadata": {},
     "output_type": "execute_result"
    }
   ],
   "source": [
    "tweets.text"
   ]
  }
 ],
 "metadata": {
  "interpreter": {
   "hash": "463226f144cc21b006ce6927bfc93dd00694e52c8bc6857abb6e555b983749e9"
  },
  "kernelspec": {
   "display_name": "Python 3.8.2 64-bit ('base': conda)",
   "language": "python",
   "name": "python3"
  },
  "language_info": {
   "codemirror_mode": {
    "name": "ipython",
    "version": 3
   },
   "file_extension": ".py",
   "mimetype": "text/x-python",
   "name": "python",
   "nbconvert_exporter": "python",
   "pygments_lexer": "ipython3",
   "version": "3.8.2"
  },
  "orig_nbformat": 4
 },
 "nbformat": 4,
 "nbformat_minor": 2
}
