{
 "cells": [
  {
   "cell_type": "markdown",
   "source": [
    "# Market Research Case Red"
   ],
   "metadata": {}
  },
  {
   "cell_type": "markdown",
   "source": [
    "Replace \"__\" with the correct variables or expressions."
   ],
   "metadata": {}
  },
  {
   "cell_type": "markdown",
   "source": [
    "## 1) Market Penetration\n",
    "\n",
    "- a) Calculate the market penetration.\n",
    "- b) Determine the market growth opportunity.\n",
    "- c) Interpret your findings."
   ],
   "metadata": {}
  },
  {
   "cell_type": "code",
   "execution_count": null,
   "source": [
    "# Market potential\n",
    "potential_customers = __\n",
    "# Current market volume\n",
    "current_customers = __"
   ],
   "outputs": [],
   "metadata": {}
  },
  {
   "cell_type": "markdown",
   "source": [
    "a) Market Penetration (percentage)"
   ],
   "metadata": {}
  },
  {
   "cell_type": "code",
   "execution_count": null,
   "source": [
    "# Market Penetration = Current Customers / Potential Customers\n",
    "market_penetration = (___/___)*100\n",
    "print(round(market_penetration,2))"
   ],
   "outputs": [],
   "metadata": {}
  },
  {
   "cell_type": "code",
   "execution_count": null,
   "source": [
    "print('The market penetration equals', round(market_penetration,2),'%')"
   ],
   "outputs": [],
   "metadata": {}
  },
  {
   "cell_type": "markdown",
   "source": [
    "b) Growth opportunity (percentage)"
   ],
   "metadata": {}
  },
  {
   "cell_type": "code",
   "execution_count": null,
   "source": [
    "market_growth_opp = (100 - ___)\n",
    "print('The market growth opportunity equals', round(market_growth_opp,2), '%')"
   ],
   "outputs": [],
   "metadata": {}
  },
  {
   "cell_type": "markdown",
   "source": [
    "c) **Interpretation**: \n",
    "\n",
    "---"
   ],
   "metadata": {}
  },
  {
   "cell_type": "markdown",
   "source": [
    "## 2) Market growth potential by customer segment\n",
    "\n",
    "- a) Calculate the number of current customers in the market by customer segment.\n",
    "- b) Calculate the number of potential customers in the market by customer segment.\n",
    "- c) Calculate the growth potential for each of the user segments.\n",
    "- d) Calculate the growth potential for each of the user segments.\n"
   ],
   "metadata": {}
  },
  {
   "cell_type": "markdown",
   "source": [
    "- a) Calculate the number of current customers in the market by customer segment."
   ],
   "metadata": {}
  },
  {
   "cell_type": "code",
   "execution_count": null,
   "source": [
    "# Market Segments for Current Market (cm = current market): Number of Users\n",
    "cm_first_users  = __ * __\n",
    "cm_second_users = __ * __\n",
    "cm_third_users  = __ * __"
   ],
   "outputs": [],
   "metadata": {}
  },
  {
   "cell_type": "markdown",
   "source": [
    "- b) Calculate the number of potential customers in the market by customer segment."
   ],
   "metadata": {}
  },
  {
   "cell_type": "code",
   "execution_count": null,
   "source": [
    "# Market Segments for Potential Market (pm = potential market): Number of Users\n",
    "pm_first_users  = __ * __\n",
    "pm_second_users = __ * __\n",
    "pm_third_users  = __ * __"
   ],
   "outputs": [],
   "metadata": {}
  },
  {
   "cell_type": "markdown",
   "source": [
    "c) Calculate the growth potential for each of the user segments."
   ],
   "metadata": {}
  },
  {
   "cell_type": "code",
   "execution_count": null,
   "source": [
    "# % Market Penetration = Current Customers / Potential Customers \n",
    "\n",
    "mp_first = (__ / __)*100\n",
    "print('Market penetration of segment 1:', round(mp_first,2), '%')\n",
    "  \n",
    "mp_second = (__ / __)*100\n",
    "print('Market penetration of segment 2:', round(mp_second,2), '%')\n",
    "\n",
    "mp_third = (__ / __)*100\n",
    "print('Market penetration of segment 3:',round(mp_third,2), '%')"
   ],
   "outputs": [],
   "metadata": {}
  },
  {
   "cell_type": "markdown",
   "source": [
    "d) Calculate the growth potential for each of the user segments. "
   ],
   "metadata": {}
  },
  {
   "cell_type": "code",
   "execution_count": null,
   "source": [
    "# % Market growth potential = 100 - Market penetration \n",
    "\n",
    "mgp_first = (100 - __)\n",
    "print('Market growth potential of segment 1:', round(mgp_first,2), '%')\n",
    "  \n",
    "mgp_second = (100 - __)\n",
    "print('Market growth potential of segment 2:', round(mgp_second,2), '%')\n",
    "\n",
    "mgp_third = (100 - __)\n",
    "print('Market growth potential of segment 3:', round(mgp_third,2), '%')"
   ],
   "outputs": [],
   "metadata": {}
  },
  {
   "cell_type": "markdown",
   "source": [
    "---"
   ],
   "metadata": {}
  },
  {
   "cell_type": "markdown",
   "source": [
    "## 3) Potential Market Sales\n",
    "\n",
    "- a) Estimate potential annual sales in units for each customer segment.\n",
    "- b) Determine total potential sales in units for the whole market.\n",
    "- c) Estimate annual potential sales in revenue for each customer segment.\n",
    "- d) Determine total potential sales in revenue for the whole market."
   ],
   "metadata": {}
  },
  {
   "cell_type": "code",
   "execution_count": null,
   "source": [
    " # Market Segments for Current Market: Average Units per Year \n",
    "cm_first_users_units  = __\n",
    "cm_second_users_units = __\n",
    "cm_third_users_units  = __\n",
    "\n",
    "# Market Segments for Current Market: Average Price Paid\n",
    "cm_first_users_price  = __\n",
    "cm_second_users_price = __\n",
    "cm_third_users_price  = __"
   ],
   "outputs": [],
   "metadata": {}
  },
  {
   "cell_type": "markdown",
   "source": [
    "a) Estimate potential annual sales in units for each customer segment. "
   ],
   "metadata": {}
  },
  {
   "cell_type": "code",
   "execution_count": null,
   "source": [
    "# Potential Customers x Avg. number of Units per Year = Potential Market Sales in Units\n",
    "# Potential Customers x Avg. number of Units per Year x Avg. Price = Potential Market Sales in Revenue\n",
    "\n",
    "pm_first_units = (__ * __)\n",
    "print('First segment :', pm_first_units)\n",
    "  \n",
    "pm_second_units = (__ * __)\n",
    "print('Second segment:', pm_second_units)\n",
    "  \n",
    "pm_third_units = (__ * __)\n",
    "print('Third segment :', pm_third_units)\n",
    "  "
   ],
   "outputs": [],
   "metadata": {}
  },
  {
   "cell_type": "markdown",
   "source": [
    "b) Determine total potential sales in units for the whole market."
   ],
   "metadata": {}
  },
  {
   "cell_type": "code",
   "execution_count": null,
   "source": [
    "pm_units_total = __  + __ + __\n",
    "print('Units total:', pm_units_total)"
   ],
   "outputs": [],
   "metadata": {}
  },
  {
   "cell_type": "markdown",
   "source": [
    "c) Estimate annual potential sales in revenue for each customer segment."
   ],
   "metadata": {}
  },
  {
   "cell_type": "code",
   "execution_count": null,
   "source": [
    "pm_first_rev = (__ * __ * __)\n",
    "print('First segment :', pm_first_rev,)\n",
    "  \n",
    "pm_second_rev = (__ * __* __)\n",
    "print('Second segment:', round(pm_second_rev,0))\n",
    "  \n",
    "pm_third_rev = (__ * __* __)\n",
    "print('Third segment :', round(pm_third_rev,0))"
   ],
   "outputs": [],
   "metadata": {}
  },
  {
   "cell_type": "markdown",
   "source": [
    "d) Determine total potential sales in revenue for the whole market."
   ],
   "metadata": {}
  },
  {
   "cell_type": "code",
   "execution_count": null,
   "source": [
    "pm_rev_total = __  + __ + __\n",
    "print('Revenue total:', round(pm_rev_total,0))"
   ],
   "outputs": [],
   "metadata": {}
  },
  {
   "cell_type": "markdown",
   "source": [
    "---"
   ],
   "metadata": {}
  },
  {
   "cell_type": "markdown",
   "source": [
    "## 4) Current Market Sales\n",
    "\n",
    "- a) Calculate the current market sales in units by segment. \n",
    "- b) Add up the segment results to find the total current sales in units.\n",
    "- c) Calculate the current market sales in revenue by segment. \n",
    "- d) Add up the segment results to find the total current sales in revenue.\n"
   ],
   "metadata": {}
  },
  {
   "cell_type": "markdown",
   "source": [
    "a) Calculate the current market sales in units by segment. "
   ],
   "metadata": {}
  },
  {
   "cell_type": "code",
   "execution_count": null,
   "source": [
    "# Customers x Avg. number of Units per Year = Current Market Sales in Units\n",
    "# Customers x Avg. number of Units per Year x Avg. Price = Current Market Sales in Revenue\n",
    "  \n",
    "cm_first_units = (__ * __)\n",
    "print('First Segment :', cm_first_units)\n",
    "  \n",
    "cm_second_units = (__ * __)\n",
    "print('Second Segment:', cm_second_units)\n",
    "  \n",
    "cm_third_units = (__ * __)\n",
    "print('Third Segment :', cm_third_units)\n",
    "  "
   ],
   "outputs": [],
   "metadata": {}
  },
  {
   "cell_type": "markdown",
   "source": [
    "b) Add up the segment results to find the total current sales in units."
   ],
   "metadata": {}
  },
  {
   "cell_type": "code",
   "execution_count": null,
   "source": [
    "cm_units_total = __  + __ +__\n",
    "print('Total Units:', cm_units_total)"
   ],
   "outputs": [],
   "metadata": {}
  },
  {
   "cell_type": "markdown",
   "source": [
    "c) Calculate the current market sales in revenue by segment. "
   ],
   "metadata": {}
  },
  {
   "cell_type": "code",
   "execution_count": null,
   "source": [
    "cm_first_rev = (__ * __ * __)\n",
    "print('First Segment :', cm_first_rev)\n",
    "  \n",
    "cm_second_rev = (__ * __* __)\n",
    "print('Second Segment:', cm_second_rev)\n",
    "  \n",
    "cm_third_rev = (__ * __* __)\n",
    "print('Third Segment :', cm_third_rev)\n",
    "  "
   ],
   "outputs": [],
   "metadata": {}
  },
  {
   "cell_type": "markdown",
   "source": [
    "d)\tAdd up the segment results to find the total current sales in revenue."
   ],
   "metadata": {}
  },
  {
   "cell_type": "code",
   "execution_count": null,
   "source": [
    "cm_rev_total = __  + __ + __\n",
    "print('Total Revenue', cm_rev_total)"
   ],
   "outputs": [],
   "metadata": {}
  },
  {
   "cell_type": "markdown",
   "source": [
    "---"
   ],
   "metadata": {}
  },
  {
   "cell_type": "markdown",
   "source": [
    "## 5) Current Market Share by Segment\n",
    "\n",
    "Calculate the market share of each segment of the current market in terms of\n",
    "\n",
    "- a) units sold. \n",
    "- b) revenue.\n"
   ],
   "metadata": {}
  },
  {
   "cell_type": "code",
   "execution_count": null,
   "source": [
    "# Segment Units / Total Units = Current Market Share of Units\n",
    "# Segment Revenue / Total Revenue = Current Market Share of Revenue  "
   ],
   "outputs": [],
   "metadata": {}
  },
  {
   "cell_type": "markdown",
   "source": [
    "a) units sold"
   ],
   "metadata": {}
  },
  {
   "cell_type": "code",
   "execution_count": null,
   "source": [
    "print('MARKET SHARE BY UNITS')  \n",
    "\n",
    "cm_first_unit_share =  (__ / __)*100\n",
    "print('First Buyers:',round(cm_first_unit_share,2))\n",
    "  \n",
    "cm_second_unit_share =  (__ / __)*100\n",
    "print('Second Buyers:', round(cm_second_unit_share,2))\n",
    "  \n",
    "cm_third_unit_share =  (__ / __)*100\n",
    "print('Third Buyers:', round(cm_third_unit_share,2))"
   ],
   "outputs": [],
   "metadata": {}
  },
  {
   "cell_type": "markdown",
   "source": [
    "b) revenue"
   ],
   "metadata": {}
  },
  {
   "cell_type": "code",
   "execution_count": null,
   "source": [
    "#CURRENT MARKET SHARE REVENUE BY SEGMENT\n",
    "print('MARKET SHARE BY REVENUE')  \n",
    "cm_first_rev_share =  (__ / __)*100\n",
    "print('First Buyers:',round(cm_first_rev_share,2))\n",
    "  \n",
    "cm_second_rev_share =  (__ / __)*100\n",
    "print('Second Buyers:', round(cm_second_rev_share,2))\n",
    "  \n",
    "cm_third_rev_share =  (__ / __)*100\n",
    "print('Third Buyers:', round(cm_third_rev_share,2))"
   ],
   "outputs": [],
   "metadata": {}
  },
  {
   "cell_type": "markdown",
   "source": [
    "---"
   ],
   "metadata": {}
  },
  {
   "cell_type": "markdown",
   "source": [
    "## 6. Current Market Units and Average Price\n",
    "\n",
    "- a) Use the current market’s total sales to determine, on average, how many units each customer purchases.\n",
    "- b) Use the current market’s total sales to determine, on average, at what price each customer purchases."
   ],
   "metadata": {}
  },
  {
   "cell_type": "code",
   "execution_count": null,
   "source": [
    "# Current Units per Year / Current Customers = Average number of Units per Customers \n",
    "# Current Revneue per Year / Current Units per Year = Average Price paid  "
   ],
   "outputs": [],
   "metadata": {}
  },
  {
   "cell_type": "markdown",
   "source": [
    "a) Use the current market’s total sales to determine, on average, how many units each customer purchases."
   ],
   "metadata": {}
  },
  {
   "cell_type": "code",
   "execution_count": null,
   "source": [
    "# AVERAGE UNITS OF ORANGE JUICE BOTTLES PER CUSTOMER\n",
    "cm_units_per_customer =  __ / __\n",
    "print('Average number of units:', cm_units_per_customer)"
   ],
   "outputs": [],
   "metadata": {}
  },
  {
   "cell_type": "markdown",
   "source": [
    "b)\tUse the current market’s total sales to determine, on average, at what price each customer purchases."
   ],
   "metadata": {}
  },
  {
   "cell_type": "code",
   "execution_count": null,
   "source": [
    "  # AVERAGE PRICE PAID PER ORANGE JUICE BOTTLE\n",
    "cm_rev_per_juice =  __ / __\n",
    "print('Average price paid:', round(cm_rev_per_juice,2))"
   ],
   "outputs": [],
   "metadata": {}
  },
  {
   "cell_type": "markdown",
   "source": [
    "---\n",
    "---"
   ],
   "metadata": {}
  },
  {
   "cell_type": "markdown",
   "source": [
    "**Use the Python module Pandas to solve task 7 and 8**. "
   ],
   "metadata": {}
  },
  {
   "cell_type": "code",
   "execution_count": null,
   "source": [
    "import pandas as pd"
   ],
   "outputs": [],
   "metadata": {}
  },
  {
   "cell_type": "code",
   "execution_count": null,
   "source": [
    "df = pd.DataFrame(\n",
    "   {'company' : ['Red', 'Blue', 'Yellow'],\n",
    "    'customers_year': [10000000, 6000000, 4000000],\n",
    "    'units_year': [90000000, 63000000, 80000000],\n",
    "    'revenue_year': [429000000, 125000000, 75000000]})"
   ],
   "outputs": [],
   "metadata": {}
  },
  {
   "cell_type": "markdown",
   "source": [
    "## 7) CURRENT MARKET AVERAGE UNITS AND PRICE BY BRAND \n",
    "\n",
    "- a) Use dataset 2 to calculate the average number of units purchased by a customer of Red, Blue and Yellow.\n",
    "- b) Use dataset 2 to calculate the average price paid  for a Red, Blue, and Yellow bottle.\n",
    "- c) Compare these results with the general averages that you calculated in task 6 and describe your findings."
   ],
   "metadata": {}
  },
  {
   "cell_type": "code",
   "execution_count": null,
   "source": [
    "df"
   ],
   "outputs": [],
   "metadata": {
    "scrolled": false
   }
  },
  {
   "cell_type": "markdown",
   "source": [
    "## Current Market Average Units and Price by Brand\n",
    "\n",
    "- a) Calculate the average number of units purchased by a customer of Red, Blue and Yellow.\n",
    "- b) Calculate the average price paid  for a Red, Blue, and Yellow bottle.\n",
    "- c) Compare these results with the general averages that you calculated in task 6."
   ],
   "metadata": {}
  },
  {
   "cell_type": "markdown",
   "source": [
    "a)\tCalculate the average number of units purchased by a customer per brand"
   ],
   "metadata": {}
  },
  {
   "cell_type": "code",
   "execution_count": null,
   "source": [
    "# AVERAGE UNITS PER YEAR PER BRAND\n",
    "df['average_units'] = df['__']/df['__']\n",
    "df.head()"
   ],
   "outputs": [],
   "metadata": {}
  },
  {
   "cell_type": "markdown",
   "source": [
    "b)"
   ],
   "metadata": {}
  },
  {
   "cell_type": "code",
   "execution_count": null,
   "source": [
    "# AVERAGE PRICE PAID PER BRAND\n",
    "df['average_price'] = round(df['__']/df['__'],2)\n",
    "df.head()"
   ],
   "outputs": [],
   "metadata": {}
  },
  {
   "cell_type": "markdown",
   "source": [
    "c)\tCompare these results with the general averages that you calculated in task 6."
   ],
   "metadata": {}
  },
  {
   "cell_type": "markdown",
   "source": [
    "**Average units**: The average number of units purchased by a customer is 11.65 (over all brands). We now can observe that there are differences between the number of units purchased by brand with Red having the lowest numbers of units per brand (9.0) and Yellow having the highest (20.0).\n",
    "\n",
    "**Average price**: The overall average price equals 2.7. However, the average price paid per brand ranges from 0.94 for brand Yellow to 4.77 for brand Red."
   ],
   "metadata": {}
  },
  {
   "cell_type": "markdown",
   "source": [
    "---"
   ],
   "metadata": {}
  },
  {
   "cell_type": "markdown",
   "source": [
    "## 8) Current Market Share by Brand\n",
    "\n",
    "Analyze the market share of each brand in terms of:\n",
    "- a) customers.\n",
    "- b) units.\n",
    "- c) revenue.\n"
   ],
   "metadata": {}
  },
  {
   "cell_type": "markdown",
   "source": [
    "a)\tcustomers."
   ],
   "metadata": {}
  },
  {
   "cell_type": "code",
   "execution_count": null,
   "source": [
    "# CUSTOMER SHARE\n",
    "df['customer_total'] = df['__'].sum()\n",
    "df['customer_share'] = df['__'] / df['__']"
   ],
   "outputs": [],
   "metadata": {}
  },
  {
   "cell_type": "markdown",
   "source": [
    "b)\tunits."
   ],
   "metadata": {}
  },
  {
   "cell_type": "code",
   "execution_count": null,
   "source": [
    "# UNITS SHARE\n",
    "df['units_total'] = df['__'].sum()\n",
    "df['units_share'] = round(df['__'] / df['__'],2)"
   ],
   "outputs": [],
   "metadata": {}
  },
  {
   "cell_type": "markdown",
   "source": [
    "c)\trevenue."
   ],
   "metadata": {}
  },
  {
   "cell_type": "code",
   "execution_count": null,
   "source": [
    "# REVENUE SHARE\n",
    "df['revenue_total'] = df['__'].sum()\n",
    "df['revenue_share'] = round(df['__'] / df['__'],2)  \n",
    "\n",
    "df['units_per_brand'] = df['__'] / df['__']  "
   ],
   "outputs": [],
   "metadata": {}
  },
  {
   "cell_type": "code",
   "execution_count": null,
   "source": [
    "df.head()"
   ],
   "outputs": [],
   "metadata": {}
  }
 ],
 "metadata": {
  "kernelspec": {
   "name": "python3",
   "display_name": "Python 3.8.2 64-bit ('base': conda)"
  },
  "language_info": {
   "codemirror_mode": {
    "name": "ipython",
    "version": 3
   },
   "file_extension": ".py",
   "mimetype": "text/x-python",
   "name": "python",
   "nbconvert_exporter": "python",
   "pygments_lexer": "ipython3",
   "version": "3.8.2"
  },
  "toc": {
   "base_numbering": 1,
   "nav_menu": {},
   "number_sections": true,
   "sideBar": true,
   "skip_h1_title": true,
   "title_cell": "Table of Contents",
   "title_sidebar": "Contents",
   "toc_cell": true,
   "toc_position": {},
   "toc_section_display": true,
   "toc_window_display": true
  },
  "varInspector": {
   "cols": {
    "lenName": 16,
    "lenType": 16,
    "lenVar": 40
   },
   "kernels_config": {
    "python": {
     "delete_cmd_postfix": "",
     "delete_cmd_prefix": "del ",
     "library": "var_list.py",
     "varRefreshCmd": "print(var_dic_list())"
    },
    "r": {
     "delete_cmd_postfix": ") ",
     "delete_cmd_prefix": "rm(",
     "library": "var_list.r",
     "varRefreshCmd": "cat(var_dic_list()) "
    }
   },
   "types_to_exclude": [
    "module",
    "function",
    "builtin_function_or_method",
    "instance",
    "_Feature"
   ],
   "window_display": false
  },
  "interpreter": {
   "hash": "d361e8bd3ab8be8f3ea65790adb41c2b64f49b1477d0d1af835155fecf213182"
  }
 },
 "nbformat": 4,
 "nbformat_minor": 2
}